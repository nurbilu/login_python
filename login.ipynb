{
 "cells": [
  {
   "cell_type": "markdown",
   "metadata": {},
   "source": [
    "functions"
   ]
  },
  {
   "cell_type": "code",
   "execution_count": null,
   "metadata": {},
   "outputs": [],
   "source": [
    "import json\n",
    "import os\n",
    "\n",
    "def My_Login():\n",
    "    # ANSI escape code for green text color\n",
    "    green_text = \"\\033[92m\"\n",
    "    first_name = input(\"Enter your first name: \")\n",
    "    family_name = input(\"Enter your family name: \")\n",
    "    name_dict = {\n",
    "        \"first_name\": first_name,\n",
    "        \"family_name\": family_name\n",
    "    }\n",
    "  # Print all in green\n",
    "    print(f\"{green_text}Welcome {first_name} {family_name}\")\n",
    "    print(f\"{green_text}Name dictionary: {name_dict}\") \n",
    "    print(f\"{green_text}\") # print new line\n",
    "\n",
    "  # Reset color\n",
    "    print(\"\\033[0m\")\n",
    "\n",
    "    # Save the dictionary as JSON to a file\n",
    "    with open(\"name_data.json\", \"w\") as json_file:\n",
    "        json.dump(name_dict, json_file, indent=4)\n",
    "    \n",
    "# Clear the terminal\n",
    "def clear_ter():\n",
    "    clear_terminal = input(\"Do you want to clear the terminal? (y/n): \")\n",
    "    if clear_terminal.lower() == 'y':\n",
    "        os.system('cls' if os.name == 'nt' else 'clear')"
   ]
  },
  {
   "cell_type": "markdown",
   "metadata": {},
   "source": [
    "the json file - name_data_json"
   ]
  },
  {
   "cell_type": "code",
   "execution_count": null,
   "metadata": {},
   "outputs": [],
   "source": [
    "{\n",
    "    \"first_name\": \"nur\",\n",
    "    \"family_name\": \"bilu\"\n",
    "}"
   ]
  },
  {
   "cell_type": "markdown",
   "metadata": {},
   "source": [
    "entry point"
   ]
  },
  {
   "cell_type": "code",
   "execution_count": null,
   "metadata": {},
   "outputs": [],
   "source": [
    "from checky import *\n",
    "if __name__ == \"__main__\":\n",
    "    pass\n",
    "    My_Login()\n",
    "    clear_ter()"
   ]
  }
 ],
 "metadata": {
  "kernelspec": {
   "display_name": "Python 3",
   "language": "python",
   "name": "python3"
  },
  "language_info": {
   "name": "python",
   "version": "3.10.0"
  },
  "orig_nbformat": 4
 },
 "nbformat": 4,
 "nbformat_minor": 2
}
